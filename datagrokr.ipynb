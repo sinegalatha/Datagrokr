{
  "nbformat": 4,
  "nbformat_minor": 0,
  "metadata": {
    "colab": {
      "provenance": []
    },
    "kernelspec": {
      "name": "python3",
      "display_name": "Python 3"
    },
    "language_info": {
      "name": "python"
    }
  },
  "cells": [
    {
      "cell_type": "code",
      "execution_count": null,
      "metadata": {
        "id": "qyrro5o-xQ6j"
      },
      "outputs": [],
      "source": []
    },
    {
      "cell_type": "code",
      "source": [
        "#from google.colab import drive\n",
        "#drive.mount('/drive/content')"
      ],
      "metadata": {
        "id": "5Ik_MMtiCyq6"
      },
      "execution_count": null,
      "outputs": []
    },
    {
      "cell_type": "code",
      "execution_count": null,
      "metadata": {
        "id": "N0ySd4JQAKct",
        "colab": {
          "base_uri": "https://localhost:8080/"
        },
        "outputId": "c3ca7387-3c12-44b2-e296-cfc24b3e278e"
      },
      "outputs": [
        {
          "output_type": "stream",
          "name": "stdout",
          "text": [
            "\r0% [Working]\r            \rGet:1 http://security.ubuntu.com/ubuntu bionic-security InRelease [88.7 kB]\n",
            "\r0% [Connecting to archive.ubuntu.com (185.125.190.36)] [1 InRelease 14.2 kB/88.\r                                                                               \rHit:2 https://cloud.r-project.org/bin/linux/ubuntu bionic-cran40/ InRelease\n",
            "\r0% [Connecting to archive.ubuntu.com (185.125.190.36)] [1 InRelease 48.9 kB/88.\r0% [2 InRelease gpgv 3,626 B] [Connecting to archive.ubuntu.com (185.125.190.36\r0% [2 InRelease gpgv 3,626 B] [Connecting to archive.ubuntu.com (185.125.190.36\r                                                                               \rHit:3 http://ppa.launchpad.net/c2d4u.team/c2d4u4.0+/ubuntu bionic InRelease\n",
            "Hit:4 http://archive.ubuntu.com/ubuntu bionic InRelease\n",
            "Ign:5 https://developer.download.nvidia.com/compute/machine-learning/repos/ubuntu1804/x86_64  InRelease\n",
            "Hit:6 https://developer.download.nvidia.com/compute/cuda/repos/ubuntu1804/x86_64  InRelease\n",
            "Hit:7 https://developer.download.nvidia.com/compute/machine-learning/repos/ubuntu1804/x86_64  Release\n",
            "Get:8 http://archive.ubuntu.com/ubuntu bionic-updates InRelease [88.7 kB]\n",
            "Hit:9 http://ppa.launchpad.net/cran/libgit2/ubuntu bionic InRelease\n",
            "Hit:10 http://ppa.launchpad.net/deadsnakes/ppa/ubuntu bionic InRelease\n",
            "Get:11 http://archive.ubuntu.com/ubuntu bionic-backports InRelease [74.6 kB]\n",
            "Hit:12 http://ppa.launchpad.net/graphics-drivers/ppa/ubuntu bionic InRelease\n",
            "Fetched 252 kB in 2s (128 kB/s)\n",
            "Reading package lists... Done\n"
          ]
        }
      ],
      "source": [
        "!apt-get update -y"
      ]
    },
    {
      "cell_type": "code",
      "source": [
        "!apt-get install openjdk-8-jdk-headless -qq > /dev/null+"
      ],
      "metadata": {
        "id": "_8N3fbcHEpzi"
      },
      "execution_count": null,
      "outputs": []
    },
    {
      "cell_type": "code",
      "source": [
        "!wget -q https://archive.apache.org/dist/spark/spark-3.1.2/spark-3.1.2-bin-hadoop2.7.tgz"
      ],
      "metadata": {
        "id": "JVoIfRU1Esp6"
      },
      "execution_count": null,
      "outputs": []
    },
    {
      "cell_type": "code",
      "source": [
        "!tar xf spark-3.1.2-bin-hadoop2.7.tgz"
      ],
      "metadata": {
        "id": "vVFs0Yg0Ez60"
      },
      "execution_count": null,
      "outputs": []
    },
    {
      "cell_type": "code",
      "source": [
        "import os\n",
        "os.environ[\"JAVA_HOME\"] = \"/usr/lib/jvm/java-8-openjdk-amd64\"\n",
        "os.environ[\"SPARK_HOME\"] = \"/content/spark-3.1.2-bin-hadoop2.7\""
      ],
      "metadata": {
        "id": "gGjJ8S2aE3H6"
      },
      "execution_count": null,
      "outputs": []
    },
    {
      "cell_type": "code",
      "source": [
        "!pip install -q findspark\n",
        "import findspark\n",
        "findspark.init()"
      ],
      "metadata": {
        "id": "0ItmBuJmE6H1"
      },
      "execution_count": null,
      "outputs": []
    },
    {
      "cell_type": "code",
      "source": [
        "! ls"
      ],
      "metadata": {
        "colab": {
          "base_uri": "https://localhost:8080/"
        },
        "id": "uCnymUqbpRzS",
        "outputId": "3eb78671-2815-41a7-f7fa-cbfe81d442c3"
      },
      "execution_count": null,
      "outputs": [
        {
          "output_type": "stream",
          "name": "stdout",
          "text": [
            "chess  sample_data\t\t  spark-3.1.2-bin-hadoop2.7.tgz\n",
            "drive  spark-3.1.2-bin-hadoop2.7  spark-3.1.2-bin-hadoop2.7.tgz.1\n"
          ]
        }
      ]
    },
    {
      "cell_type": "code",
      "source": [
        "from pyspark.sql import SparkSession\n",
        "spark = (SparkSession.builder.appName(\"sample\").getOrCreate())"
      ],
      "metadata": {
        "id": "Nm-jmmkM7sjh"
      },
      "execution_count": null,
      "outputs": []
    },
    {
      "cell_type": "code",
      "source": [
        "import gdown"
      ],
      "metadata": {
        "id": "zPSTg7myqUkg"
      },
      "execution_count": null,
      "outputs": []
    },
    {
      "cell_type": "code",
      "source": [
        "gdown.download_folder(id='1QgWPHV_l25Ui9L7et8mkZohAOG59UTkQ', quiet=True, use_cookies=False)"
      ],
      "metadata": {
        "colab": {
          "base_uri": "https://localhost:8080/"
        },
        "id": "fPk-0WcequxD",
        "outputId": "e4bcd22c-f0c2-42a4-b79a-e271ab2346e6"
      },
      "execution_count": null,
      "outputs": [
        {
          "output_type": "execute_result",
          "data": {
            "text/plain": [
              "['/content/chess/chess_schema.png',\n",
              " '/content/chess/chess_wc_history_game_info.csv',\n",
              " '/content/chess/chess_wc_history_moves.csv',\n",
              " '/content/chess/eco_codes.csv']"
            ]
          },
          "metadata": {},
          "execution_count": 31
        }
      ]
    },
    {
      "cell_type": "code",
      "source": [
        "history_data = spark.read.csv(\"/content/drive/MyDrive/chess/chess_wc_history_game_info.csv\", inferSchema=True, header=True)\n",
        "moves_data = spark.read.csv(\"/content/drive/MyDrive/chess/chess_wc_history_moves.csv\", inferSchema=True, header=True)\n",
        "eco_data = spark.read.csv(\"/content/drive/MyDrive/chess/eco_codes.csv\", inferSchema=True, header=True)"
      ],
      "metadata": {
        "id": "fM6T23MAFLE5"
      },
      "execution_count": null,
      "outputs": []
    },
    {
      "cell_type": "code",
      "source": [
        "from pyspark.sql.window import Window\n",
        "import pyspark.sql.functions as F"
      ],
      "metadata": {
        "id": "hBeQo_nEti5g"
      },
      "execution_count": null,
      "outputs": []
    },
    {
      "cell_type": "code",
      "source": [
        "history_data.groupBy('winner').count().show()"
      ],
      "metadata": {
        "id": "3HudBRMmqwd2"
      },
      "execution_count": null,
      "outputs": []
    },
    {
      "cell_type": "code",
      "source": [
        "history_data.groupBy('tournament_name').count().show()"
      ],
      "metadata": {
        "id": "PsmrxNkVWcau"
      },
      "execution_count": null,
      "outputs": []
    },
    {
      "cell_type": "code",
      "source": [
        "history_data.printSchema()"
      ],
      "metadata": {
        "id": "wT_86-4JNp7e"
      },
      "execution_count": null,
      "outputs": []
    },
    {
      "cell_type": "code",
      "source": [
        "history_data.show()"
      ],
      "metadata": {
        "id": "OujNWPJeNxtJ"
      },
      "execution_count": null,
      "outputs": []
    },
    {
      "cell_type": "code",
      "source": [
        "moves_data.printSchema()"
      ],
      "metadata": {
        "id": "-zVv4dBRN7Dj"
      },
      "execution_count": null,
      "outputs": []
    },
    {
      "cell_type": "code",
      "source": [
        "moves_data.show()"
      ],
      "metadata": {
        "id": "rRecA2PBOJ-l"
      },
      "execution_count": null,
      "outputs": []
    },
    {
      "cell_type": "code",
      "source": [
        "eco_data.printSchema()"
      ],
      "metadata": {
        "id": "N9rRWzQ1OOa3"
      },
      "execution_count": null,
      "outputs": []
    },
    {
      "cell_type": "code",
      "source": [
        "eco_data.show()"
      ],
      "metadata": {
        "id": "PlPphsiUOSjU"
      },
      "execution_count": null,
      "outputs": []
    },
    {
      "cell_type": "code",
      "source": [
        "print('size of the data:', history_data.count())\n",
        "print('no of columns:', len(history_data.columns))\n",
        "print('columns:', history_data.columns)"
      ],
      "metadata": {
        "id": "0Em6c0arpxaX"
      },
      "execution_count": null,
      "outputs": []
    },
    {
      "cell_type": "code",
      "source": [
        "# using pyspark for exploratory data analysis\n",
        "\n",
        "import pyspark\n",
        "from pyspark import sql\n",
        "from pyspark.sql.functions import col"
      ],
      "metadata": {
        "id": "NUBCSd1Cqr-k"
      },
      "execution_count": null,
      "outputs": []
    },
    {
      "cell_type": "code",
      "source": [
        "history_data.groupBy('tournament_name').count().show(5000)"
      ],
      "metadata": {
        "id": "a094tBl0rVUL"
      },
      "execution_count": null,
      "outputs": []
    },
    {
      "cell_type": "code",
      "source": [
        "moves_data.select('player').show()"
      ],
      "metadata": {
        "id": "NLxXSbXMSP_K"
      },
      "execution_count": null,
      "outputs": []
    },
    {
      "cell_type": "code",
      "source": [
        "moves_data.groupBy('player').count().show()"
      ],
      "metadata": {
        "id": "PcZPgcmsTxMr"
      },
      "execution_count": null,
      "outputs": []
    },
    {
      "cell_type": "markdown",
      "source": [
        "# ***1. List of Winners of Each World champions Trophy.***"
      ],
      "metadata": {
        "id": "CVyjDODdtKiA"
      }
    },
    {
      "cell_type": "code",
      "source": [
        "from pyspark.sql.functions import col\n",
        "winner_data = history_data.filter(col(\"winner\") != \"draw\").show()"
      ],
      "metadata": {
        "id": "n4Mz45tPt03k",
        "colab": {
          "base_uri": "https://localhost:8080/"
        },
        "outputId": "7165e64a-d97a-4ed2-f1bd-103682cf3d86"
      },
      "execution_count": null,
      "outputs": [
        {
          "output_type": "stream",
          "name": "stdout",
          "text": [
            "+--------------------+----------+------------------+------------+-----------+-----+------------------+------------------+------+---------+---------+-----------+-----------+------------------+----------+------------------+---------+---------------------+---+--------------------+---------------+\n",
            "|             game_id|game_order|             event|        site|date_played|round|             white|             black|result|white_elo|black_elo|white_title|black_title|            winner|winner_elo|             loser|loser_elo|winner_loser_elo_diff|eco|        date_created|tournament_name|\n",
            "+--------------------+----------+------------------+------------+-----------+-----+------------------+------------------+------+---------+---------+-----------+-----------+------------------+----------+------------------+---------+---------------------+---+--------------------+---------------+\n",
            "|58e83255-93bb-4d5...|         6|          WCh 2021|   Dubai UAE| 2021.12.03|  6.0|         Carlsen,M|  Nepomniachtchi,I|   1-0|     2855|     2782|       null|       null|         Carlsen,M|      2855|  Nepomniachtchi,I|     2782|                   73|D02|2022-07-22T22:33:...| WorldChamp2021|\n",
            "|8a4ccd8c-d437-429...|         8|          WCh 2021|   Dubai UAE| 2021.12.05|  8.0|         Carlsen,M|  Nepomniachtchi,I|   1-0|     2855|     2782|       null|       null|         Carlsen,M|      2855|  Nepomniachtchi,I|     2782|                   73|C43|2022-07-22T22:33:...| WorldChamp2021|\n",
            "|55a122db-27d1-495...|         9|          WCh 2021|   Dubai UAE| 2021.12.07|  9.0|  Nepomniachtchi,I|         Carlsen,M|   0-1|     2782|     2855|       null|       null|         Carlsen,M|      2855|  Nepomniachtchi,I|     2782|                   73|A13|2022-07-22T22:33:...| WorldChamp2021|\n",
            "|c512a953-a341-47c...|        11|          WCh 2021|   Dubai UAE| 2021.12.10| 11.0|  Nepomniachtchi,I|         Carlsen,M|   0-1|     2782|     2855|       null|       null|         Carlsen,M|      2855|  Nepomniachtchi,I|     2782|                   73|C50|2022-07-22T22:33:...| WorldChamp2021|\n",
            "|8a49457a-7c11-436...|         8|          WCh 2016|New York USA| 2016.11.21|  8.0|   Carlsen, Magnus|  Karjakin, Sergey|   0-1|     2853|     2772|         GM|         GM|  Karjakin, Sergey|      2772|   Carlsen, Magnus|     2853|                  -81|D05|2022-07-22T22:33:...| WorldChamp2016|\n",
            "|dea461a0-46b1-43e...|        10|          WCh 2016|New York USA| 2016.11.24| 10.0|   Carlsen, Magnus|  Karjakin, Sergey|   1-0|     2853|     2772|         GM|         GM|   Carlsen, Magnus|      2853|  Karjakin, Sergey|     2772|                   81|C65|2022-07-22T22:33:...| WorldChamp2016|\n",
            "|96cea9d3-9ded-432...|        15| WCh Rapid TB 2016|New York USA| 2016.11.30|  3.0|  Karjakin, Sergey|   Carlsen, Magnus|   0-1|     2772|     2853|         GM|         GM|   Carlsen, Magnus|      2853|  Karjakin, Sergey|     2772|                   81|C84|2022-07-22T22:33:...| WorldChamp2016|\n",
            "|69954db6-8a4e-43d...|        16| WCh Rapid TB 2016|New York USA| 2016.11.30|  4.0|   Carlsen, Magnus|  Karjakin, Sergey|   1-0|     2853|     2772|         GM|         GM|   Carlsen, Magnus|      2853|  Karjakin, Sergey|     2772|                   81|B54|2022-07-22T22:33:...| WorldChamp2016|\n",
            "|c6da46fc-4ed5-4e6...|         2|          WCh 2014|   Sochi RUS| 2014.11.09|  2.0|   Carlsen, Magnus|Anand, Viswanathan|   1-0|     2863|     2792|         GM|         GM|   Carlsen, Magnus|      2863|Anand, Viswanathan|     2792|                   71|C65|2022-07-22T22:33:...| WorldChamp2014|\n",
            "|e8e1e55d-e0d2-467...|         3|          WCh 2014|   Sochi RUS| 2014.11.11|  3.0|Anand, Viswanathan|   Carlsen, Magnus|   1-0|     2792|     2863|         GM|         GM|Anand, Viswanathan|      2792|   Carlsen, Magnus|     2863|                  -71|D37|2022-07-22T22:33:...| WorldChamp2014|\n",
            "|8abc1978-ec05-4b0...|         6|          WCh 2014|   Sochi RUS| 2014.11.15|  6.0|   Carlsen, Magnus|Anand, Viswanathan|   1-0|     2863|     2792|         GM|         GM|   Carlsen, Magnus|      2863|Anand, Viswanathan|     2792|                   71|B41|2022-07-22T22:33:...| WorldChamp2014|\n",
            "|456d0e77-8b7a-447...|        11|          WCh 2014|   Sochi RUS| 2014.11.23| 11.0|   Carlsen, Magnus|Anand, Viswanathan|   1-0|     2863|     2792|         GM|         GM|   Carlsen, Magnus|      2863|Anand, Viswanathan|     2792|                   71|C67|2022-07-22T22:33:...| WorldChamp2014|\n",
            "|8ddb538f-20e7-423...|         5|          WCh 2013| Chennai IND| 2013.11.15|  5.0|   Carlsen, Magnus|Anand, Viswanathan|   1-0|     2870|     2775|         GM|         GM|   Carlsen, Magnus|      2870|Anand, Viswanathan|     2775|                   95|D31|2022-07-22T22:33:...| WorldChamp2013|\n",
            "|e92208c7-2a0d-4be...|         6|          WCh 2013| Chennai IND| 2013.11.16|  6.0|Anand, Viswanathan|   Carlsen, Magnus|   0-1|     2775|     2870|         GM|         GM|   Carlsen, Magnus|      2870|Anand, Viswanathan|     2775|                   95|C65|2022-07-22T22:33:...| WorldChamp2013|\n",
            "|7a60a3e9-2e4d-48a...|         9|          WCh 2013| Chennai IND| 2013.11.21|  9.0|Anand, Viswanathan|   Carlsen, Magnus|   0-1|     2775|     2870|         GM|         GM|   Carlsen, Magnus|      2870|Anand, Viswanathan|     2775|                   95|E25|2022-07-22T22:33:...| WorldChamp2013|\n",
            "|85f912a4-3e0a-4ab...|         7|          WCh 2012|  Moscow RUS| 2012.05.20|  7.0|         Gelfand,B|           Anand,V|   1-0|     2727|     2791|       null|       null|         Gelfand,B|      2727|           Anand,V|     2791|                  -64|D45|2022-07-22T22:33:...| WorldChamp2012|\n",
            "|646031d8-05e7-40b...|         8|          WCh 2012|  Moscow RUS| 2012.05.21|  8.0|           Anand,V|         Gelfand,B|   1-0|     2791|     2727|       null|       null|           Anand,V|      2791|         Gelfand,B|     2727|                   64|E60|2022-07-22T22:33:...| WorldChamp2012|\n",
            "|a9e346b5-0066-40c...|        14|WCh Rapid Tiebreak|  Moscow RUS| 2012.05.30|  2.0|Anand, Viswanathan|    Gelfand, Boris|   1-0|     2791|     2727|         GM|         GM|Anand, Viswanathan|      2791|    Gelfand, Boris|     2727|                   64|B30|2022-07-22T22:33:...| WorldChamp2012|\n",
            "|427df540-ad7e-4c7...|         1|               WCh|   Sofia BUL| 2010.04.24|  1.0|         Topalov,V|           Anand,V|   1-0|     2805|     2787|       null|       null|         Topalov,V|      2805|           Anand,V|     2787|                   18|D86|2022-07-22T22:33:...| WorldChamp2010|\n",
            "|600bf35b-8d76-4b2...|         2|               WCh|   Sofia BUL| 2010.04.25|  2.0|           Anand,V|         Topalov,V|   1-0|     2787|     2805|       null|       null|           Anand,V|      2787|         Topalov,V|     2805|                  -18|E04|2022-07-22T22:33:...| WorldChamp2010|\n",
            "+--------------------+----------+------------------+------------+-----------+-----+------------------+------------------+------+---------+---------+-----------+-----------+------------------+----------+------------------+---------+---------------------+---+--------------------+---------------+\n",
            "only showing top 20 rows\n",
            "\n"
          ]
        }
      ]
    },
    {
      "cell_type": "code",
      "source": [
        "#history_data.filter(\"winner != 'draw'\").select(\"winner\").show()\n",
        "#This table shows all the winners list of all competetion"
      ],
      "metadata": {
        "id": "3ixVtM519_v3"
      },
      "execution_count": null,
      "outputs": []
    },
    {
      "cell_type": "code",
      "source": [
        "from pyspark.sql.functions import col"
      ],
      "metadata": {
        "id": "PBVBsxq8FYyF"
      },
      "execution_count": null,
      "outputs": []
    },
    {
      "cell_type": "code",
      "source": [
        "#Here we are getting the actual results of winners of overall world championship\n",
        "count = history_data.filter(\"winner != 'draw'\").where(col('tournament_name').like(\"%W%\")).select('winner', 'tournament_name')"
      ],
      "metadata": {
        "id": "JMemExiHZutn"
      },
      "execution_count": null,
      "outputs": []
    },
    {
      "cell_type": "code",
      "source": [
        "count.dropDuplicates(['winner', 'tournament_name']).show()"
      ],
      "metadata": {
        "colab": {
          "base_uri": "https://localhost:8080/"
        },
        "id": "RBOkAOxZvWsb",
        "outputId": "979765d4-9bf8-463d-f731-1dee664dac59"
      },
      "execution_count": null,
      "outputs": [
        {
          "output_type": "stream",
          "name": "stdout",
          "text": [
            "+--------------------+---------------+\n",
            "|              winner|tournament_name|\n",
            "+--------------------+---------------+\n",
            "|   Steinitz, William| WorldChamp1890|\n",
            "|           Kramnik,V| WorldChamp2006|\n",
            "|             Anand,V| WorldChamp2010|\n",
            "|  Botvinnik, Mikhail| WorldChamp1961|\n",
            "|  Botvinnik, Mikhail| WorldChamp1948|\n",
            "| Alekhine, Alexander| WorldChamp1929|\n",
            "| Alekhine, Alexander| WorldChamp1937|\n",
            "|           Kramnik,V| WorldChamp2007|\n",
            "|              Leko,P| WorldChamp2004|\n",
            "|         Tal, Mihail| WorldChamp1961|\n",
            "|  Tarrasch, Siegbert| WorldChamp1908|\n",
            "|           Gelfand,B| WorldChamp2012|\n",
            "|             Anand,V| WorldChamp2012|\n",
            "|      Kasparov, Gary| WorldChamp1984|\n",
            "|  Botvinnik, Mikhail| WorldChamp1963|\n",
            "|Janowsky, Dawid M...| WorldChamp1909|\n",
            "|      Kasparov, Gary| WorldChamp1987|\n",
            "|     Karpov, Anatoly| WorldChamp1978|\n",
            "|  Botvinnik, Mikhail| WorldChamp1951|\n",
            "|    Smyslov, Vassily| WorldChamp1948|\n",
            "+--------------------+---------------+\n",
            "only showing top 20 rows\n",
            "\n"
          ]
        }
      ]
    },
    {
      "cell_type": "markdown",
      "source": [
        "# ***2.List of Players with number of times they have won Tournament in descending order(Max to min).***"
      ],
      "metadata": {
        "id": "rbvD2uZHh7O-"
      }
    },
    {
      "cell_type": "code",
      "source": [
        "from pyspark.sql.functions import *\n",
        "from pyspark.sql.functions import desc"
      ],
      "metadata": {
        "id": "b9YIL_yJpaPe"
      },
      "execution_count": null,
      "outputs": []
    },
    {
      "cell_type": "code",
      "source": [
        "history_data.filter(\"winner != 'draw'\").select(\"winner\").groupBy(\"winner\").count().sort(desc(\"count\")).show()"
      ],
      "metadata": {
        "colab": {
          "base_uri": "https://localhost:8080/"
        },
        "id": "Npd3TgX0k7vz",
        "outputId": "4805d0c6-1160-4c39-fdb7-30f90ac2a517"
      },
      "execution_count": null,
      "outputs": [
        {
          "output_type": "stream",
          "name": "stdout",
          "text": [
            "+--------------------+-----+\n",
            "|              winner|count|\n",
            "+--------------------+-----+\n",
            "|     Lasker, Emanuel|   52|\n",
            "|     Karpov, Anatoly|   47|\n",
            "|  Botvinnik, Mikhail|   46|\n",
            "| Alekhine, Alexander|   43|\n",
            "|   Steinitz, William|   43|\n",
            "|           Topalov,V|   32|\n",
            "|      Kasparov, Gary|   31|\n",
            "|             Anand,V|   30|\n",
            "|    Smyslov, Vassily|   24|\n",
            "|            Adams,Mi|   20|\n",
            "|      Kasimdzhanov,R|   19|\n",
            "|          Grischuk,A|   17|\n",
            "|      Adams, Michael|   16|\n",
            "|           Svidler,P|   16|\n",
            "|            Bareev,E|   15|\n",
            "|            Shirov,A|   15|\n",
            "|             Dreev,A|   15|\n",
            "|   Chigorin, Mikhail|   14|\n",
            "|Khalifman, Alexander|   14|\n",
            "|           Euwe, Max|   14|\n",
            "+--------------------+-----+\n",
            "only showing top 20 rows\n",
            "\n"
          ]
        }
      ]
    },
    {
      "cell_type": "markdown",
      "source": [
        "# ***3.Most and Least Popular eco move in world championship history.***"
      ],
      "metadata": {
        "id": "KPSeSSD-qOOK"
      }
    },
    {
      "cell_type": "code",
      "source": [
        "history_data.show(5)"
      ],
      "metadata": {
        "colab": {
          "base_uri": "https://localhost:8080/"
        },
        "id": "I-TeLFKWqunJ",
        "outputId": "749e87be-cef5-44e7-b009-dcdd5a4ad260"
      },
      "execution_count": null,
      "outputs": [
        {
          "output_type": "stream",
          "name": "stdout",
          "text": [
            "+--------------------+----------+--------+---------+-----------+-----+----------------+----------------+-------+---------+---------+-----------+-----------+------+----------+-----+---------+---------------------+---+--------------------+---------------+\n",
            "|             game_id|game_order|   event|     site|date_played|round|           white|           black| result|white_elo|black_elo|white_title|black_title|winner|winner_elo|loser|loser_elo|winner_loser_elo_diff|eco|        date_created|tournament_name|\n",
            "+--------------------+----------+--------+---------+-----------+-----+----------------+----------------+-------+---------+---------+-----------+-----------+------+----------+-----+---------+---------------------+---+--------------------+---------------+\n",
            "|86e0b7f5-7b94-4ae...|         1|WCh 2021|Dubai UAE| 2021.11.26|  1.0|Nepomniachtchi,I|       Carlsen,M|1/2-1/2|     2782|     2855|       null|       null|  draw|      null| draw|     null|                    0|C88|2022-07-22T22:33:...| WorldChamp2021|\n",
            "|dc4a10ab-54cf-49d...|         2|WCh 2021|Dubai UAE| 2021.11.27|  2.0|       Carlsen,M|Nepomniachtchi,I|1/2-1/2|     2855|     2782|       null|       null|  draw|      null| draw|     null|                    0|E06|2022-07-22T22:33:...| WorldChamp2021|\n",
            "|f042ca37-8899-488...|         3|WCh 2021|Dubai UAE| 2021.11.28|  3.0|Nepomniachtchi,I|       Carlsen,M|1/2-1/2|     2782|     2855|       null|       null|  draw|      null| draw|     null|                    0|C88|2022-07-22T22:33:...| WorldChamp2021|\n",
            "|f70e4bbc-21e3-46f...|         4|WCh 2021|Dubai UAE| 2021.11.30|  4.0|       Carlsen,M|Nepomniachtchi,I|1/2-1/2|     2855|     2782|       null|       null|  draw|      null| draw|     null|                    0|C42|2022-07-22T22:33:...| WorldChamp2021|\n",
            "|c941c323-308a-4c8...|         5|WCh 2021|Dubai UAE| 2021.12.01|  5.0|Nepomniachtchi,I|       Carlsen,M|1/2-1/2|     2782|     2855|       null|       null|  draw|      null| draw|     null|                    0|C88|2022-07-22T22:33:...| WorldChamp2021|\n",
            "+--------------------+----------+--------+---------+-----------+-----+----------------+----------------+-------+---------+---------+-----------+-----------+------+----------+-----+---------+---------------------+---+--------------------+---------------+\n",
            "only showing top 5 rows\n",
            "\n"
          ]
        }
      ]
    },
    {
      "cell_type": "code",
      "source": [
        "moves_data.show(5)"
      ],
      "metadata": {
        "colab": {
          "base_uri": "https://localhost:8080/"
        },
        "id": "poCO1TF4rZPS",
        "outputId": "01ad477e-f62f-4092-ad94-e51c206e1f1d"
      },
      "execution_count": null,
      "outputs": [
        {
          "output_type": "stream",
          "name": "stdout",
          "text": [
            "+--------------------+-------+------------+----------------+--------+----+-----------+---------+-----+-----+--------------------+--------+-------------+--------------+----------------------+------------+------------------------+-----------+-----------+----------------+----------------+-----------------+-----------------+------------------+------------------+------------------+------------------+----------------+----------------+------------------------+------------------------+--------------------+--------------------+--------------------+--------------------+--------------------+--------------------+--------------------+--------------------+--------------------+--------------------+--------------------+--------------------+--------------------+--------------------+--------------------+--------------------+--------------------+--------------------+--------------------+--------------------+--------------------+--------------------+--------------------+--------------------+--------------------+--------------------+--------------------+--------------------+--------------------+--------------------+--------------------+--------------------+-----------------+\n",
            "|             game_id|move_no|move_no_pair|          player|notation|move|from_square|to_square|piece|color|                 fen|is_check|is_check_mate|is_fifty_moves|is_fivefold_repetition|is_game_over|is_insufficient_material|white_count|black_count|white_pawn_count|black_pawn_count|white_queen_count|black_queen_count|white_bishop_count|black_bishop_count|white_knight_count|black_knight_count|white_rook_count|black_rook_count|captured_score_for_white|captured_score_for_black|fen_row1_white_count|fen_row2_white_count|fen_row3_white_count|fen_row4_white_count|fen_row5_white_count|fen_row6_white_count|fen_row7_white_count|fen_row8_white_count|fen_row1_white_value|fen_row2_white_value|fen_row3_white_value|fen_row4_white_value|fen_row5_white_value|fen_row6_white_value|fen_row7_white_value|fen_row8_white_value|fen_row1_black_count|fen_row2_black_count|fen_row3_black_count|fen_row4_black_count|fen_row5_black_count|fen_row6_black_count|fen_row7_black_count|fen_row8_black_count|fen_row1_black_value|fen_row2_black_value|fen_row3_black_value|fen_row4_black_value|fen_row5_black_value|fen_row6_black_value|fen_row7_black_value|fen_row8_black_value|    move_sequence|\n",
            "+--------------------+-------+------------+----------------+--------+----+-----------+---------+-----+-----+--------------------+--------+-------------+--------------+----------------------+------------+------------------------+-----------+-----------+----------------+----------------+-----------------+-----------------+------------------+------------------+------------------+------------------+----------------+----------------+------------------------+------------------------+--------------------+--------------------+--------------------+--------------------+--------------------+--------------------+--------------------+--------------------+--------------------+--------------------+--------------------+--------------------+--------------------+--------------------+--------------------+--------------------+--------------------+--------------------+--------------------+--------------------+--------------------+--------------------+--------------------+--------------------+--------------------+--------------------+--------------------+--------------------+--------------------+--------------------+--------------------+--------------------+-----------------+\n",
            "|86e0b7f5-7b94-4ae...|      1|           1|Nepomniachtchi,I|      e4|e2e4|         e2|       e4|    P|White|rnbqkbnr/pppppppp...|       0|            0|             0|                     0|           0|                       0|         16|         16|               8|               8|                1|                1|                 2|                 2|                 2|                 2|               2|               2|                       0|                       0|                   8|                   7|                   0|                   1|                   0|                   0|                   0|                   0|                  31|                   7|                   0|                   1|                   0|                   0|                   0|                   0|                   0|                   0|                   0|                   0|                   0|                   0|                   8|                   8|                   0|                   0|                   0|                   0|                   0|                   0|                   8|                  31|               e4|\n",
            "|86e0b7f5-7b94-4ae...|      2|           1|       Carlsen,M|      e5|e7e5|         e7|       e5|    P|Black|rnbqkbnr/pppp1ppp...|       0|            0|             0|                     0|           0|                       0|         16|         16|               8|               8|                1|                1|                 2|                 2|                 2|                 2|               2|               2|                       0|                       0|                   8|                   7|                   0|                   1|                   0|                   0|                   0|                   0|                  31|                   7|                   0|                   1|                   0|                   0|                   0|                   0|                   0|                   0|                   0|                   0|                   1|                   0|                   7|                   8|                   0|                   0|                   0|                   0|                   1|                   0|                   7|                  31|            e4|e5|\n",
            "|86e0b7f5-7b94-4ae...|      3|           2|Nepomniachtchi,I|     Nf3|g1f3|         g1|       f3|    N|White|rnbqkbnr/pppp1ppp...|       0|            0|             0|                     0|           0|                       0|         16|         16|               8|               8|                1|                1|                 2|                 2|                 2|                 2|               2|               2|                       0|                       0|                   7|                   7|                   1|                   1|                   0|                   0|                   0|                   0|                  28|                   7|                   3|                   1|                   0|                   0|                   0|                   0|                   0|                   0|                   0|                   0|                   1|                   0|                   7|                   8|                   0|                   0|                   0|                   0|                   1|                   0|                   7|                  31|        e4|e5|Nf3|\n",
            "|86e0b7f5-7b94-4ae...|      4|           2|       Carlsen,M|     Nc6|b8c6|         b8|       c6|    N|Black|r1bqkbnr/pppp1ppp...|       0|            0|             0|                     0|           0|                       0|         16|         16|               8|               8|                1|                1|                 2|                 2|                 2|                 2|               2|               2|                       0|                       0|                   7|                   7|                   1|                   1|                   0|                   0|                   0|                   0|                  28|                   7|                   3|                   1|                   0|                   0|                   0|                   0|                   0|                   0|                   0|                   0|                   1|                   1|                   7|                   7|                   0|                   0|                   0|                   0|                   1|                   3|                   7|                  28|    e4|e5|Nf3|Nc6|\n",
            "|86e0b7f5-7b94-4ae...|      5|           3|Nepomniachtchi,I|     Bb5|f1b5|         f1|       b5|    B|White|r1bqkbnr/pppp1ppp...|       0|            0|             0|                     0|           0|                       0|         16|         16|               8|               8|                1|                1|                 2|                 2|                 2|                 2|               2|               2|                       0|                       0|                   6|                   7|                   1|                   1|                   1|                   0|                   0|                   0|                  25|                   7|                   3|                   1|                   3|                   0|                   0|                   0|                   0|                   0|                   0|                   0|                   1|                   1|                   7|                   7|                   0|                   0|                   0|                   0|                   1|                   3|                   7|                  28|e4|e5|Nf3|Nc6|Bb5|\n",
            "+--------------------+-------+------------+----------------+--------+----+-----------+---------+-----+-----+--------------------+--------+-------------+--------------+----------------------+------------+------------------------+-----------+-----------+----------------+----------------+-----------------+-----------------+------------------+------------------+------------------+------------------+----------------+----------------+------------------------+------------------------+--------------------+--------------------+--------------------+--------------------+--------------------+--------------------+--------------------+--------------------+--------------------+--------------------+--------------------+--------------------+--------------------+--------------------+--------------------+--------------------+--------------------+--------------------+--------------------+--------------------+--------------------+--------------------+--------------------+--------------------+--------------------+--------------------+--------------------+--------------------+--------------------+--------------------+--------------------+--------------------+-----------------+\n",
            "only showing top 5 rows\n",
            "\n"
          ]
        }
      ]
    },
    {
      "cell_type": "code",
      "source": [
        "eco_data.show(5)"
      ],
      "metadata": {
        "colab": {
          "base_uri": "https://localhost:8080/"
        },
        "id": "_B6V12bArjVK",
        "outputId": "75e939ac-eff2-46a8-b462-9f1787670342"
      },
      "execution_count": null,
      "outputs": [
        {
          "output_type": "stream",
          "name": "stdout",
          "text": [
            "+---+--------------------+------------------+--------+---------+\n",
            "|eco|            eco_name|       eco_example|eco_type|eco_group|\n",
            "+---+--------------------+------------------+--------+---------+\n",
            "|A00|    Uncommon Opening|1 g4, a3, h3, etc.|       A|    Flank|\n",
            "|A01|Nimzovich-Larsen ...|              1 b3|       A|    Flank|\n",
            "|A02|      Bird's Opening|              1 f4|       A|    Flank|\n",
            "|A03|      Bird's Opening|           1 f4 d5|       A|    Flank|\n",
            "|A04|        Reti Opening|             1 Nf3|       A|    Flank|\n",
            "+---+--------------------+------------------+--------+---------+\n",
            "only showing top 5 rows\n",
            "\n"
          ]
        }
      ]
    },
    {
      "cell_type": "code",
      "source": [
        "\n",
        "combined_data = history_data.join(eco_data,history_data.eco ==  eco_data.eco,\"inner\") \n"
      ],
      "metadata": {
        "id": "3DkHG3CXF4VD"
      },
      "execution_count": null,
      "outputs": []
    },
    {
      "cell_type": "code",
      "source": [
        "combined_data.show(2)"
      ],
      "metadata": {
        "colab": {
          "base_uri": "https://localhost:8080/"
        },
        "id": "iHBrNdHQVu3N",
        "outputId": "2e1f28c1-b962-4afd-f9d1-5d191000ba9b"
      },
      "execution_count": null,
      "outputs": [
        {
          "output_type": "stream",
          "name": "stdout",
          "text": [
            "+--------------------+----------+--------+---------+-----------+-----+----------------+----------------+-------+---------+---------+-----------+-----------+------+----------+-----+---------+---------------------+---+--------------------+---------------+---+--------------------+--------------------+--------+-----------------+\n",
            "|             game_id|game_order|   event|     site|date_played|round|           white|           black| result|white_elo|black_elo|white_title|black_title|winner|winner_elo|loser|loser_elo|winner_loser_elo_diff|eco|        date_created|tournament_name|eco|            eco_name|         eco_example|eco_type|        eco_group|\n",
            "+--------------------+----------+--------+---------+-----------+-----+----------------+----------------+-------+---------+---------+-----------+-----------+------+----------+-----+---------+---------------------+---+--------------------+---------------+---+--------------------+--------------------+--------+-----------------+\n",
            "|86e0b7f5-7b94-4ae...|         1|WCh 2021|Dubai UAE| 2021.11.26|  1.0|Nepomniachtchi,I|       Carlsen,M|1/2-1/2|     2782|     2855|       null|       null|  draw|      null| draw|     null|                    0|C88|2022-07-22T22:33:...| WorldChamp2021|C88|           Ruy Lopez|1 e4 e5 2 Nf3 Nc6...|       C|Open (inc French)|\n",
            "|dc4a10ab-54cf-49d...|         2|WCh 2021|Dubai UAE| 2021.11.27|  2.0|       Carlsen,M|Nepomniachtchi,I|1/2-1/2|     2855|     2782|       null|       null|  draw|      null| draw|     null|                    0|E06|2022-07-22T22:33:...| WorldChamp2021|E06|Catalan, Closed, ...|1 d4 Nf6 2 c4 e6 ...|       E|           Indian|\n",
            "+--------------------+----------+--------+---------+-----------+-----+----------------+----------------+-------+---------+---------+-----------+-----------+------+----------+-----+---------+---------------------+---+--------------------+---------------+---+--------------------+--------------------+--------+-----------------+\n",
            "only showing top 2 rows\n",
            "\n"
          ]
        }
      ]
    },
    {
      "cell_type": "code",
      "source": [
        "from pyspark.sql.functions import *"
      ],
      "metadata": {
        "id": "RPnMwsNmKrmI"
      },
      "execution_count": null,
      "outputs": []
    },
    {
      "cell_type": "code",
      "source": [
        "import pyspark.sql.functions as F"
      ],
      "metadata": {
        "id": "_5-jxnw3pgkz"
      },
      "execution_count": null,
      "outputs": []
    },
    {
      "cell_type": "code",
      "source": [
        "combined_data = combined_data.join(moves_data, combined_data.game_id == moves_data.game_id)"
      ],
      "metadata": {
        "id": "_Ettf9Spr_Qn"
      },
      "execution_count": null,
      "outputs": []
    },
    {
      "cell_type": "code",
      "source": [
        "combined_data.show(2)"
      ],
      "metadata": {
        "colab": {
          "base_uri": "https://localhost:8080/"
        },
        "id": "l7D-4ymEGbOc",
        "outputId": "9c656a73-ae22-45a1-ba40-2d550bc9e424"
      },
      "execution_count": null,
      "outputs": [
        {
          "output_type": "stream",
          "name": "stdout",
          "text": [
            "+--------------------+----------+--------------------+---------+-----------+-----+----------------+--------------------+-------+---------+---------+-----------+-----------+------+----------+-----+---------+---------------------+---+--------------------+---------------+---+-----------------+--------------------+--------+--------------------+--------------------+-------+------------+--------------------+--------+----+-----------+---------+-----+-----+--------------------+--------+-------------+--------------+----------------------+------------+------------------------+-----------+-----------+----------------+----------------+-----------------+-----------------+------------------+------------------+------------------+------------------+----------------+----------------+------------------------+------------------------+--------------------+--------------------+--------------------+--------------------+--------------------+--------------------+--------------------+--------------------+--------------------+--------------------+--------------------+--------------------+--------------------+--------------------+--------------------+--------------------+--------------------+--------------------+--------------------+--------------------+--------------------+--------------------+--------------------+--------------------+--------------------+--------------------+--------------------+--------------------+--------------------+--------------------+--------------------+--------------------+-------------+\n",
            "|             game_id|game_order|               event|     site|date_played|round|           white|               black| result|white_elo|black_elo|white_title|black_title|winner|winner_elo|loser|loser_elo|winner_loser_elo_diff|eco|        date_created|tournament_name|eco|         eco_name|         eco_example|eco_type|           eco_group|             game_id|move_no|move_no_pair|              player|notation|move|from_square|to_square|piece|color|                 fen|is_check|is_check_mate|is_fifty_moves|is_fivefold_repetition|is_game_over|is_insufficient_material|white_count|black_count|white_pawn_count|black_pawn_count|white_queen_count|black_queen_count|white_bishop_count|black_bishop_count|white_knight_count|black_knight_count|white_rook_count|black_rook_count|captured_score_for_white|captured_score_for_black|fen_row1_white_count|fen_row2_white_count|fen_row3_white_count|fen_row4_white_count|fen_row5_white_count|fen_row6_white_count|fen_row7_white_count|fen_row8_white_count|fen_row1_white_value|fen_row2_white_value|fen_row3_white_value|fen_row4_white_value|fen_row5_white_value|fen_row6_white_value|fen_row7_white_value|fen_row8_white_value|fen_row1_black_count|fen_row2_black_count|fen_row3_black_count|fen_row4_black_count|fen_row5_black_count|fen_row6_black_count|fen_row7_black_count|fen_row8_black_count|fen_row1_black_value|fen_row2_black_value|fen_row3_black_value|fen_row4_black_value|fen_row5_black_value|fen_row6_black_value|fen_row7_black_value|fen_row8_black_value|move_sequence|\n",
            "+--------------------+----------+--------------------+---------+-----------+-----+----------------+--------------------+-------+---------+---------+-----------+-----------+------+----------+-----+---------+---------------------+---+--------------------+---------------+---+-----------------+--------------------+--------+--------------------+--------------------+-------+------------+--------------------+--------+----+-----------+---------+-----+-----+--------------------+--------+-------------+--------------+----------------------+------------+------------------------+-----------+-----------+----------------+----------------+-----------------+-----------------+------------------+------------------+------------------+------------------+----------------+----------------+------------------------+------------------------+--------------------+--------------------+--------------------+--------------------+--------------------+--------------------+--------------------+--------------------+--------------------+--------------------+--------------------+--------------------+--------------------+--------------------+--------------------+--------------------+--------------------+--------------------+--------------------+--------------------+--------------------+--------------------+--------------------+--------------------+--------------------+--------------------+--------------------+--------------------+--------------------+--------------------+--------------------+--------------------+-------------+\n",
            "|09a19770-8f86-452...|         7|World Championshi...|Reykjavik| 1972.??.??|  7.0|Spassky, Boris V|Fischer, Robert J...|1/2-1/2|     2660|     2785|       null|       null|  draw|      null| draw|     null|                    0|B97|2022-07-22T22:35:...| WorldChamp1972|B97|Sicilian, Najdorf|1 e4 c5 2 Nf3 d6 ...|       B|Semi-Open (exc Fr...|09a19770-8f86-452...|      1|           1|    Spassky, Boris V|      e4|e2e4|         e2|       e4|    P|White|rnbqkbnr/pppppppp...|       0|            0|             0|                     0|           0|                       0|         16|         16|               8|               8|                1|                1|                 2|                 2|                 2|                 2|               2|               2|                       0|                       0|                   8|                   7|                   0|                   1|                   0|                   0|                   0|                   0|                  31|                   7|                   0|                   1|                   0|                   0|                   0|                   0|                   0|                   0|                   0|                   0|                   0|                   0|                   8|                   8|                   0|                   0|                   0|                   0|                   0|                   0|                   8|                  31|           e4|\n",
            "|09a19770-8f86-452...|         7|World Championshi...|Reykjavik| 1972.??.??|  7.0|Spassky, Boris V|Fischer, Robert J...|1/2-1/2|     2660|     2785|       null|       null|  draw|      null| draw|     null|                    0|B97|2022-07-22T22:35:...| WorldChamp1972|B97|Sicilian, Najdorf|1 e4 c5 2 Nf3 d6 ...|       B|Semi-Open (exc Fr...|09a19770-8f86-452...|      2|           1|Fischer, Robert J...|      c5|c7c5|         c7|       c5|    P|Black|rnbqkbnr/pp1ppppp...|       0|            0|             0|                     0|           0|                       0|         16|         16|               8|               8|                1|                1|                 2|                 2|                 2|                 2|               2|               2|                       0|                       0|                   8|                   7|                   0|                   1|                   0|                   0|                   0|                   0|                  31|                   7|                   0|                   1|                   0|                   0|                   0|                   0|                   0|                   0|                   0|                   0|                   1|                   0|                   7|                   8|                   0|                   0|                   0|                   0|                   1|                   0|                   7|                  31|        e4|c5|\n",
            "+--------------------+----------+--------------------+---------+-----------+-----+----------------+--------------------+-------+---------+---------+-----------+-----------+------+----------+-----+---------+---------------------+---+--------------------+---------------+---+-----------------+--------------------+--------+--------------------+--------------------+-------+------------+--------------------+--------+----+-----------+---------+-----+-----+--------------------+--------+-------------+--------------+----------------------+------------+------------------------+-----------+-----------+----------------+----------------+-----------------+-----------------+------------------+------------------+------------------+------------------+----------------+----------------+------------------------+------------------------+--------------------+--------------------+--------------------+--------------------+--------------------+--------------------+--------------------+--------------------+--------------------+--------------------+--------------------+--------------------+--------------------+--------------------+--------------------+--------------------+--------------------+--------------------+--------------------+--------------------+--------------------+--------------------+--------------------+--------------------+--------------------+--------------------+--------------------+--------------------+--------------------+--------------------+--------------------+--------------------+-------------+\n",
            "only showing top 2 rows\n",
            "\n"
          ]
        }
      ]
    },
    {
      "cell_type": "code",
      "source": [
        "combined_data.columns"
      ],
      "metadata": {
        "id": "SsCVHXCMIDcO"
      },
      "execution_count": null,
      "outputs": []
    }
  ]
}